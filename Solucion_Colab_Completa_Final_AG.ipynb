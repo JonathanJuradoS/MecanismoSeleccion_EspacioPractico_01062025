{
  "cells": [
    {
      "cell_type": "markdown",
      "metadata": {
        "id": "view-in-github",
        "colab_type": "text"
      },
      "source": [
        "<a href=\"https://colab.research.google.com/github/JonathanJuradoS/MecanismoSeleccion_EspacioPractico_01062025/blob/main/Solucion_Colab_Completa_Final_AG.ipynb\" target=\"_parent\"><img src=\"https://colab.research.google.com/assets/colab-badge.svg\" alt=\"Open In Colab\"/></a>"
      ]
    },
    {
      "cell_type": "markdown",
      "id": "3369db2f",
      "metadata": {
        "id": "3369db2f"
      },
      "source": [
        "# 🚚 Optimización de Rutas - Mecanismos de Selección en AG"
      ]
    },
    {
      "cell_type": "markdown",
      "id": "5e788192",
      "metadata": {
        "id": "5e788192"
      },
      "source": [
        "Este notebook aplica diferentes mecanismos de selección sobre un conjunto de rutas de la empresa EcoDelivery usando Algoritmos Genéticos."
      ]
    },
    {
      "cell_type": "markdown",
      "id": "72311228",
      "metadata": {
        "id": "72311228"
      },
      "source": [
        "## 🔹 Paso 1: Cargar y visualizar el dataset"
      ]
    },
    {
      "cell_type": "code",
      "execution_count": 8,
      "id": "127817ee",
      "metadata": {
        "colab": {
          "base_uri": "https://localhost:8080/",
          "height": 363
        },
        "id": "127817ee",
        "outputId": "ef59c8fa-f986-49bf-d5df-591c20a6d496"
      },
      "outputs": [
        {
          "output_type": "execute_result",
          "data": {
            "text/plain": [
              "   ID    Ruta  Tiempo_estimado (min)  Fitness\n",
              "0   1  101010                     42       58\n",
              "1   2  111000                     38       62\n",
              "2   3     111                     49       51\n",
              "3   4  110011                     36       64\n",
              "4   5  100101                     41       59\n",
              "5   6   11010                     43       57\n",
              "6   7  111111                     33       67\n",
              "7   8   10101                     44       56\n",
              "8   9  101100                     40       60\n",
              "9  10    1011                     47       53"
            ],
            "text/html": [
              "\n",
              "  <div id=\"df-0d8944e1-08c5-4f5c-835d-6aff18f61093\" class=\"colab-df-container\">\n",
              "    <div>\n",
              "<style scoped>\n",
              "    .dataframe tbody tr th:only-of-type {\n",
              "        vertical-align: middle;\n",
              "    }\n",
              "\n",
              "    .dataframe tbody tr th {\n",
              "        vertical-align: top;\n",
              "    }\n",
              "\n",
              "    .dataframe thead th {\n",
              "        text-align: right;\n",
              "    }\n",
              "</style>\n",
              "<table border=\"1\" class=\"dataframe\">\n",
              "  <thead>\n",
              "    <tr style=\"text-align: right;\">\n",
              "      <th></th>\n",
              "      <th>ID</th>\n",
              "      <th>Ruta</th>\n",
              "      <th>Tiempo_estimado (min)</th>\n",
              "      <th>Fitness</th>\n",
              "    </tr>\n",
              "  </thead>\n",
              "  <tbody>\n",
              "    <tr>\n",
              "      <th>0</th>\n",
              "      <td>1</td>\n",
              "      <td>101010</td>\n",
              "      <td>42</td>\n",
              "      <td>58</td>\n",
              "    </tr>\n",
              "    <tr>\n",
              "      <th>1</th>\n",
              "      <td>2</td>\n",
              "      <td>111000</td>\n",
              "      <td>38</td>\n",
              "      <td>62</td>\n",
              "    </tr>\n",
              "    <tr>\n",
              "      <th>2</th>\n",
              "      <td>3</td>\n",
              "      <td>111</td>\n",
              "      <td>49</td>\n",
              "      <td>51</td>\n",
              "    </tr>\n",
              "    <tr>\n",
              "      <th>3</th>\n",
              "      <td>4</td>\n",
              "      <td>110011</td>\n",
              "      <td>36</td>\n",
              "      <td>64</td>\n",
              "    </tr>\n",
              "    <tr>\n",
              "      <th>4</th>\n",
              "      <td>5</td>\n",
              "      <td>100101</td>\n",
              "      <td>41</td>\n",
              "      <td>59</td>\n",
              "    </tr>\n",
              "    <tr>\n",
              "      <th>5</th>\n",
              "      <td>6</td>\n",
              "      <td>11010</td>\n",
              "      <td>43</td>\n",
              "      <td>57</td>\n",
              "    </tr>\n",
              "    <tr>\n",
              "      <th>6</th>\n",
              "      <td>7</td>\n",
              "      <td>111111</td>\n",
              "      <td>33</td>\n",
              "      <td>67</td>\n",
              "    </tr>\n",
              "    <tr>\n",
              "      <th>7</th>\n",
              "      <td>8</td>\n",
              "      <td>10101</td>\n",
              "      <td>44</td>\n",
              "      <td>56</td>\n",
              "    </tr>\n",
              "    <tr>\n",
              "      <th>8</th>\n",
              "      <td>9</td>\n",
              "      <td>101100</td>\n",
              "      <td>40</td>\n",
              "      <td>60</td>\n",
              "    </tr>\n",
              "    <tr>\n",
              "      <th>9</th>\n",
              "      <td>10</td>\n",
              "      <td>1011</td>\n",
              "      <td>47</td>\n",
              "      <td>53</td>\n",
              "    </tr>\n",
              "  </tbody>\n",
              "</table>\n",
              "</div>\n",
              "    <div class=\"colab-df-buttons\">\n",
              "\n",
              "  <div class=\"colab-df-container\">\n",
              "    <button class=\"colab-df-convert\" onclick=\"convertToInteractive('df-0d8944e1-08c5-4f5c-835d-6aff18f61093')\"\n",
              "            title=\"Convert this dataframe to an interactive table.\"\n",
              "            style=\"display:none;\">\n",
              "\n",
              "  <svg xmlns=\"http://www.w3.org/2000/svg\" height=\"24px\" viewBox=\"0 -960 960 960\">\n",
              "    <path d=\"M120-120v-720h720v720H120Zm60-500h600v-160H180v160Zm220 220h160v-160H400v160Zm0 220h160v-160H400v160ZM180-400h160v-160H180v160Zm440 0h160v-160H620v160ZM180-180h160v-160H180v160Zm440 0h160v-160H620v160Z\"/>\n",
              "  </svg>\n",
              "    </button>\n",
              "\n",
              "  <style>\n",
              "    .colab-df-container {\n",
              "      display:flex;\n",
              "      gap: 12px;\n",
              "    }\n",
              "\n",
              "    .colab-df-convert {\n",
              "      background-color: #E8F0FE;\n",
              "      border: none;\n",
              "      border-radius: 50%;\n",
              "      cursor: pointer;\n",
              "      display: none;\n",
              "      fill: #1967D2;\n",
              "      height: 32px;\n",
              "      padding: 0 0 0 0;\n",
              "      width: 32px;\n",
              "    }\n",
              "\n",
              "    .colab-df-convert:hover {\n",
              "      background-color: #E2EBFA;\n",
              "      box-shadow: 0px 1px 2px rgba(60, 64, 67, 0.3), 0px 1px 3px 1px rgba(60, 64, 67, 0.15);\n",
              "      fill: #174EA6;\n",
              "    }\n",
              "\n",
              "    .colab-df-buttons div {\n",
              "      margin-bottom: 4px;\n",
              "    }\n",
              "\n",
              "    [theme=dark] .colab-df-convert {\n",
              "      background-color: #3B4455;\n",
              "      fill: #D2E3FC;\n",
              "    }\n",
              "\n",
              "    [theme=dark] .colab-df-convert:hover {\n",
              "      background-color: #434B5C;\n",
              "      box-shadow: 0px 1px 3px 1px rgba(0, 0, 0, 0.15);\n",
              "      filter: drop-shadow(0px 1px 2px rgba(0, 0, 0, 0.3));\n",
              "      fill: #FFFFFF;\n",
              "    }\n",
              "  </style>\n",
              "\n",
              "    <script>\n",
              "      const buttonEl =\n",
              "        document.querySelector('#df-0d8944e1-08c5-4f5c-835d-6aff18f61093 button.colab-df-convert');\n",
              "      buttonEl.style.display =\n",
              "        google.colab.kernel.accessAllowed ? 'block' : 'none';\n",
              "\n",
              "      async function convertToInteractive(key) {\n",
              "        const element = document.querySelector('#df-0d8944e1-08c5-4f5c-835d-6aff18f61093');\n",
              "        const dataTable =\n",
              "          await google.colab.kernel.invokeFunction('convertToInteractive',\n",
              "                                                    [key], {});\n",
              "        if (!dataTable) return;\n",
              "\n",
              "        const docLinkHtml = 'Like what you see? Visit the ' +\n",
              "          '<a target=\"_blank\" href=https://colab.research.google.com/notebooks/data_table.ipynb>data table notebook</a>'\n",
              "          + ' to learn more about interactive tables.';\n",
              "        element.innerHTML = '';\n",
              "        dataTable['output_type'] = 'display_data';\n",
              "        await google.colab.output.renderOutput(dataTable, element);\n",
              "        const docLink = document.createElement('div');\n",
              "        docLink.innerHTML = docLinkHtml;\n",
              "        element.appendChild(docLink);\n",
              "      }\n",
              "    </script>\n",
              "  </div>\n",
              "\n",
              "\n",
              "    <div id=\"df-16c284ed-44a3-47fd-a1a3-7ea24dd0e6ce\">\n",
              "      <button class=\"colab-df-quickchart\" onclick=\"quickchart('df-16c284ed-44a3-47fd-a1a3-7ea24dd0e6ce')\"\n",
              "                title=\"Suggest charts\"\n",
              "                style=\"display:none;\">\n",
              "\n",
              "<svg xmlns=\"http://www.w3.org/2000/svg\" height=\"24px\"viewBox=\"0 0 24 24\"\n",
              "     width=\"24px\">\n",
              "    <g>\n",
              "        <path d=\"M19 3H5c-1.1 0-2 .9-2 2v14c0 1.1.9 2 2 2h14c1.1 0 2-.9 2-2V5c0-1.1-.9-2-2-2zM9 17H7v-7h2v7zm4 0h-2V7h2v10zm4 0h-2v-4h2v4z\"/>\n",
              "    </g>\n",
              "</svg>\n",
              "      </button>\n",
              "\n",
              "<style>\n",
              "  .colab-df-quickchart {\n",
              "      --bg-color: #E8F0FE;\n",
              "      --fill-color: #1967D2;\n",
              "      --hover-bg-color: #E2EBFA;\n",
              "      --hover-fill-color: #174EA6;\n",
              "      --disabled-fill-color: #AAA;\n",
              "      --disabled-bg-color: #DDD;\n",
              "  }\n",
              "\n",
              "  [theme=dark] .colab-df-quickchart {\n",
              "      --bg-color: #3B4455;\n",
              "      --fill-color: #D2E3FC;\n",
              "      --hover-bg-color: #434B5C;\n",
              "      --hover-fill-color: #FFFFFF;\n",
              "      --disabled-bg-color: #3B4455;\n",
              "      --disabled-fill-color: #666;\n",
              "  }\n",
              "\n",
              "  .colab-df-quickchart {\n",
              "    background-color: var(--bg-color);\n",
              "    border: none;\n",
              "    border-radius: 50%;\n",
              "    cursor: pointer;\n",
              "    display: none;\n",
              "    fill: var(--fill-color);\n",
              "    height: 32px;\n",
              "    padding: 0;\n",
              "    width: 32px;\n",
              "  }\n",
              "\n",
              "  .colab-df-quickchart:hover {\n",
              "    background-color: var(--hover-bg-color);\n",
              "    box-shadow: 0 1px 2px rgba(60, 64, 67, 0.3), 0 1px 3px 1px rgba(60, 64, 67, 0.15);\n",
              "    fill: var(--button-hover-fill-color);\n",
              "  }\n",
              "\n",
              "  .colab-df-quickchart-complete:disabled,\n",
              "  .colab-df-quickchart-complete:disabled:hover {\n",
              "    background-color: var(--disabled-bg-color);\n",
              "    fill: var(--disabled-fill-color);\n",
              "    box-shadow: none;\n",
              "  }\n",
              "\n",
              "  .colab-df-spinner {\n",
              "    border: 2px solid var(--fill-color);\n",
              "    border-color: transparent;\n",
              "    border-bottom-color: var(--fill-color);\n",
              "    animation:\n",
              "      spin 1s steps(1) infinite;\n",
              "  }\n",
              "\n",
              "  @keyframes spin {\n",
              "    0% {\n",
              "      border-color: transparent;\n",
              "      border-bottom-color: var(--fill-color);\n",
              "      border-left-color: var(--fill-color);\n",
              "    }\n",
              "    20% {\n",
              "      border-color: transparent;\n",
              "      border-left-color: var(--fill-color);\n",
              "      border-top-color: var(--fill-color);\n",
              "    }\n",
              "    30% {\n",
              "      border-color: transparent;\n",
              "      border-left-color: var(--fill-color);\n",
              "      border-top-color: var(--fill-color);\n",
              "      border-right-color: var(--fill-color);\n",
              "    }\n",
              "    40% {\n",
              "      border-color: transparent;\n",
              "      border-right-color: var(--fill-color);\n",
              "      border-top-color: var(--fill-color);\n",
              "    }\n",
              "    60% {\n",
              "      border-color: transparent;\n",
              "      border-right-color: var(--fill-color);\n",
              "    }\n",
              "    80% {\n",
              "      border-color: transparent;\n",
              "      border-right-color: var(--fill-color);\n",
              "      border-bottom-color: var(--fill-color);\n",
              "    }\n",
              "    90% {\n",
              "      border-color: transparent;\n",
              "      border-bottom-color: var(--fill-color);\n",
              "    }\n",
              "  }\n",
              "</style>\n",
              "\n",
              "      <script>\n",
              "        async function quickchart(key) {\n",
              "          const quickchartButtonEl =\n",
              "            document.querySelector('#' + key + ' button');\n",
              "          quickchartButtonEl.disabled = true;  // To prevent multiple clicks.\n",
              "          quickchartButtonEl.classList.add('colab-df-spinner');\n",
              "          try {\n",
              "            const charts = await google.colab.kernel.invokeFunction(\n",
              "                'suggestCharts', [key], {});\n",
              "          } catch (error) {\n",
              "            console.error('Error during call to suggestCharts:', error);\n",
              "          }\n",
              "          quickchartButtonEl.classList.remove('colab-df-spinner');\n",
              "          quickchartButtonEl.classList.add('colab-df-quickchart-complete');\n",
              "        }\n",
              "        (() => {\n",
              "          let quickchartButtonEl =\n",
              "            document.querySelector('#df-16c284ed-44a3-47fd-a1a3-7ea24dd0e6ce button');\n",
              "          quickchartButtonEl.style.display =\n",
              "            google.colab.kernel.accessAllowed ? 'block' : 'none';\n",
              "        })();\n",
              "      </script>\n",
              "    </div>\n",
              "\n",
              "  <div id=\"id_52d390b9-f961-423c-91f0-b503fa8499e9\">\n",
              "    <style>\n",
              "      .colab-df-generate {\n",
              "        background-color: #E8F0FE;\n",
              "        border: none;\n",
              "        border-radius: 50%;\n",
              "        cursor: pointer;\n",
              "        display: none;\n",
              "        fill: #1967D2;\n",
              "        height: 32px;\n",
              "        padding: 0 0 0 0;\n",
              "        width: 32px;\n",
              "      }\n",
              "\n",
              "      .colab-df-generate:hover {\n",
              "        background-color: #E2EBFA;\n",
              "        box-shadow: 0px 1px 2px rgba(60, 64, 67, 0.3), 0px 1px 3px 1px rgba(60, 64, 67, 0.15);\n",
              "        fill: #174EA6;\n",
              "      }\n",
              "\n",
              "      [theme=dark] .colab-df-generate {\n",
              "        background-color: #3B4455;\n",
              "        fill: #D2E3FC;\n",
              "      }\n",
              "\n",
              "      [theme=dark] .colab-df-generate:hover {\n",
              "        background-color: #434B5C;\n",
              "        box-shadow: 0px 1px 3px 1px rgba(0, 0, 0, 0.15);\n",
              "        filter: drop-shadow(0px 1px 2px rgba(0, 0, 0, 0.3));\n",
              "        fill: #FFFFFF;\n",
              "      }\n",
              "    </style>\n",
              "    <button class=\"colab-df-generate\" onclick=\"generateWithVariable('df')\"\n",
              "            title=\"Generate code using this dataframe.\"\n",
              "            style=\"display:none;\">\n",
              "\n",
              "  <svg xmlns=\"http://www.w3.org/2000/svg\" height=\"24px\"viewBox=\"0 0 24 24\"\n",
              "       width=\"24px\">\n",
              "    <path d=\"M7,19H8.4L18.45,9,17,7.55,7,17.6ZM5,21V16.75L18.45,3.32a2,2,0,0,1,2.83,0l1.4,1.43a1.91,1.91,0,0,1,.58,1.4,1.91,1.91,0,0,1-.58,1.4L9.25,21ZM18.45,9,17,7.55Zm-12,3A5.31,5.31,0,0,0,4.9,8.1,5.31,5.31,0,0,0,1,6.5,5.31,5.31,0,0,0,4.9,4.9,5.31,5.31,0,0,0,6.5,1,5.31,5.31,0,0,0,8.1,4.9,5.31,5.31,0,0,0,12,6.5,5.46,5.46,0,0,0,6.5,12Z\"/>\n",
              "  </svg>\n",
              "    </button>\n",
              "    <script>\n",
              "      (() => {\n",
              "      const buttonEl =\n",
              "        document.querySelector('#id_52d390b9-f961-423c-91f0-b503fa8499e9 button.colab-df-generate');\n",
              "      buttonEl.style.display =\n",
              "        google.colab.kernel.accessAllowed ? 'block' : 'none';\n",
              "\n",
              "      buttonEl.onclick = () => {\n",
              "        google.colab.notebook.generateWithVariable('df');\n",
              "      }\n",
              "      })();\n",
              "    </script>\n",
              "  </div>\n",
              "\n",
              "    </div>\n",
              "  </div>\n"
            ],
            "application/vnd.google.colaboratory.intrinsic+json": {
              "type": "dataframe",
              "variable_name": "df",
              "summary": "{\n  \"name\": \"df\",\n  \"rows\": 10,\n  \"fields\": [\n    {\n      \"column\": \"ID\",\n      \"properties\": {\n        \"dtype\": \"number\",\n        \"std\": 3,\n        \"min\": 1,\n        \"max\": 10,\n        \"num_unique_values\": 10,\n        \"samples\": [\n          9,\n          2,\n          6\n        ],\n        \"semantic_type\": \"\",\n        \"description\": \"\"\n      }\n    },\n    {\n      \"column\": \"Ruta\",\n      \"properties\": {\n        \"dtype\": \"number\",\n        \"std\": 51993,\n        \"min\": 111,\n        \"max\": 111111,\n        \"num_unique_values\": 10,\n        \"samples\": [\n          101100,\n          111000,\n          11010\n        ],\n        \"semantic_type\": \"\",\n        \"description\": \"\"\n      }\n    },\n    {\n      \"column\": \"Tiempo_estimado (min)\",\n      \"properties\": {\n        \"dtype\": \"number\",\n        \"std\": 4,\n        \"min\": 33,\n        \"max\": 49,\n        \"num_unique_values\": 10,\n        \"samples\": [\n          40,\n          38,\n          43\n        ],\n        \"semantic_type\": \"\",\n        \"description\": \"\"\n      }\n    },\n    {\n      \"column\": \"Fitness\",\n      \"properties\": {\n        \"dtype\": \"number\",\n        \"std\": 4,\n        \"min\": 51,\n        \"max\": 67,\n        \"num_unique_values\": 10,\n        \"samples\": [\n          60,\n          62,\n          57\n        ],\n        \"semantic_type\": \"\",\n        \"description\": \"\"\n      }\n    }\n  ]\n}"
            }
          },
          "metadata": {},
          "execution_count": 8
        }
      ],
      "source": [
        "\n",
        "import pandas as pd\n",
        "\n",
        "df = pd.read_csv(\"eco_rutas_dataset.csv\")\n",
        "df['Fitness'] = 100 - df['Tiempo_estimado (min)']\n",
        "df\n"
      ]
    },
    {
      "cell_type": "markdown",
      "id": "f730bb3d",
      "metadata": {
        "id": "f730bb3d"
      },
      "source": [
        "## 🔹 Paso 2: Implementar los mecanismos de selección"
      ]
    },
    {
      "cell_type": "markdown",
      "id": "bfd9b8c9",
      "metadata": {
        "id": "bfd9b8c9"
      },
      "source": [
        "### 🎯 Ruleta\n",
        "Este método asigna a cada ruta una probabilidad proporcional a su valor de fitness. Las rutas con menor tiempo tienen más chances de ser seleccionadas."
      ]
    },
    {
      "cell_type": "code",
      "source": [
        "import random\n",
        "\n",
        "def seleccion_ruleta(df, n=4):\n",
        "    total_fit = df['Fitness'].sum()\n",
        "    seleccionados = []\n",
        "    for _ in range(n):\n",
        "        pick = random.uniform(0, total_fit)\n",
        "        current = 0\n",
        "        for i, row in df.iterrows():\n",
        "            current += row['Fitness']\n",
        "            if current >= pick:\n",
        "                seleccionados.append(row['Ruta'])\n",
        "                break\n",
        "    return seleccionados"
      ],
      "metadata": {
        "id": "jqU_2tyCAWU2"
      },
      "id": "jqU_2tyCAWU2",
      "execution_count": 9,
      "outputs": []
    },
    {
      "cell_type": "markdown",
      "id": "cf747237",
      "metadata": {
        "id": "cf747237"
      },
      "source": [
        "### 🏆 Torneo\n",
        "Se eligen aleatoriamente varios individuos y se selecciona el que tenga el mayor fitness. La presión selectiva se controla con el tamaño del torneo."
      ]
    },
    {
      "cell_type": "code",
      "source": [
        "def seleccion_torneo(df, n=4, k=3):\n",
        "    seleccionados = []\n",
        "    for _ in range(n):\n",
        "        competidores = df.sample(k)\n",
        "        ganador = competidores.loc[competidores['Fitness'].idxmax()]\n",
        "        seleccionados.append(ganador['Ruta'])\n",
        "    return seleccionados"
      ],
      "metadata": {
        "id": "vsP8rky3AXKY"
      },
      "id": "vsP8rky3AXKY",
      "execution_count": 10,
      "outputs": []
    },
    {
      "cell_type": "markdown",
      "id": "665b5474",
      "metadata": {
        "id": "665b5474"
      },
      "source": [
        "### 🥇 Elitismo\n",
        "Se seleccionan directamente los mejores individuos (con mayor fitness) para que pasen a la siguiente generación sin modificaciones."
      ]
    },
    {
      "cell_type": "code",
      "source": [
        "def seleccion_elitismo(df, n=4):\n",
        "    elite = df.sort_values(by='Fitness', ascending=False)\n",
        "    return elite.head(n)['Ruta'].tolist()"
      ],
      "metadata": {
        "id": "nonzciMfAXjk"
      },
      "id": "nonzciMfAXjk",
      "execution_count": 11,
      "outputs": []
    },
    {
      "cell_type": "markdown",
      "id": "3da23cdf",
      "metadata": {
        "id": "3da23cdf"
      },
      "source": [
        "### 📈 Ranking\n",
        "Los individuos son ordenados por su fitness y se asigna una probabilidad según su posición. Este método evita que un solo individuo domine."
      ]
    },
    {
      "cell_type": "code",
      "source": [
        "def seleccion_ranking(df, n=4):\n",
        "    df_sorted = df.sort_values(by='Fitness').reset_index(drop=True)\n",
        "    df_sorted['Rank'] = df_sorted.index + 1\n",
        "    total_ranks = df_sorted['Rank'].sum()\n",
        "    seleccionados = []\n",
        "    for _ in range(n):\n",
        "        pick = random.uniform(0, total_ranks)\n",
        "        current = 0\n",
        "        for i, row in df_sorted.iterrows():\n",
        "            current += row['Rank']\n",
        "            if current >= pick:\n",
        "                seleccionados.append(row['Ruta'])\n",
        "                break\n",
        "    return seleccionados"
      ],
      "metadata": {
        "id": "YVs6ZlbRAYZV"
      },
      "id": "YVs6ZlbRAYZV",
      "execution_count": 12,
      "outputs": []
    },
    {
      "cell_type": "markdown",
      "id": "10fb6757",
      "metadata": {
        "id": "10fb6757"
      },
      "source": [
        "### 🔄 Estocástica Universal\n",
        "Distribuye uniformemente la selección sobre la ruleta. Reduce la varianza de la selección aleatoria."
      ]
    },
    {
      "cell_type": "code",
      "execution_count": 13,
      "id": "57889921",
      "metadata": {
        "id": "57889921"
      },
      "outputs": [],
      "source": [
        "def seleccion_estocastica(df, n=4):\n",
        "    df = df.copy()\n",
        "    df['Probabilidad'] = df['Fitness'] / df['Fitness'].sum()\n",
        "    df['Acumulada'] = df['Probabilidad'].cumsum()\n",
        "    start = random.uniform(0, 1/n)\n",
        "    puntos = [(start + i/n) for i in range(n)]\n",
        "    seleccionados = []\n",
        "    for punto in puntos:\n",
        "        for i, row in df.iterrows():\n",
        "            if punto <= row['Acumulada']:\n",
        "                seleccionados.append(row['Ruta'])\n",
        "                break\n",
        "    return seleccionados"
      ]
    },
    {
      "cell_type": "markdown",
      "id": "718e4e5a",
      "metadata": {
        "id": "718e4e5a"
      },
      "source": [
        "## 🔹 Paso 3: Seleccionar 4 individuos con cada método y comparar fitness promedio"
      ]
    },
    {
      "cell_type": "code",
      "execution_count": 14,
      "id": "59cc7e65",
      "metadata": {
        "colab": {
          "base_uri": "https://localhost:8080/",
          "height": 946
        },
        "id": "59cc7e65",
        "outputId": "790fadc4-9c05-40ff-f59c-4a54add9929e"
      },
      "outputs": [
        {
          "output_type": "display_data",
          "data": {
            "text/plain": [
              "<Figure size 1000x600 with 1 Axes>"
            ],
            "image/png": "[encoded data removed]"
          },
          "metadata": {}
        },
        {
          "output_type": "execute_result",
          "data": {
            "text/plain": [
              "{'Ruleta': {'Individuos': [np.int64(10101),\n",
              "   np.int64(111111),\n",
              "   np.int64(11010),\n",
              "   np.int64(11010)],\n",
              "  'Fitness Promedio': np.float64(60.0)},\n",
              " 'Torneo': {'Individuos': [np.int64(111111),\n",
              "   np.int64(111111),\n",
              "   np.int64(101010),\n",
              "   np.int64(111111)],\n",
              "  'Fitness Promedio': np.float64(62.5)},\n",
              " 'Elitismo': {'Individuos': [111111, 110011, 111000, 101100],\n",
              "  'Fitness Promedio': np.float64(63.25)},\n",
              " 'Ranking': {'Individuos': [np.int64(110011),\n",
              "   np.int64(11010),\n",
              "   np.int64(101010),\n",
              "   np.int64(111111)],\n",
              "  'Fitness Promedio': np.float64(61.5)},\n",
              " 'Estocástica': {'Individuos': [np.float64(111000.0),\n",
              "   np.float64(100101.0),\n",
              "   np.float64(111111.0),\n",
              "   np.float64(1011.0)],\n",
              "  'Fitness Promedio': np.float64(60.25)}}"
            ]
          },
          "metadata": {},
          "execution_count": 14
        }
      ],
      "source": [
        "\n",
        "ruleta = seleccion_ruleta(df)\n",
        "torneo = seleccion_torneo(df)\n",
        "elitismo = seleccion_elitismo(df)\n",
        "ranking = seleccion_ranking(df)\n",
        "estocastica = seleccion_estocastica(df)\n",
        "\n",
        "# Obtener el fitness promedio de los seleccionados\n",
        "def promedio_fitness(rutas):\n",
        "    return df[df['Ruta'].isin(rutas)]['Fitness'].mean()\n",
        "\n",
        "resultados = {\n",
        "    'Ruleta': {'Individuos': ruleta, 'Fitness Promedio': promedio_fitness(ruleta)},\n",
        "    'Torneo': {'Individuos': torneo, 'Fitness Promedio': promedio_fitness(torneo)},\n",
        "    'Elitismo': {'Individuos': elitismo, 'Fitness Promedio': promedio_fitness(elitismo)},\n",
        "    'Ranking': {'Individuos': ranking, 'Fitness Promedio': promedio_fitness(ranking)},\n",
        "    'Estocástica': {'Individuos': estocastica, 'Fitness Promedio': promedio_fitness(estocastica)}\n",
        "}\n",
        "\n",
        "import matplotlib.pyplot as plt\n",
        "\n",
        "# Visualizar\n",
        "labels = list(resultados.keys())\n",
        "fitness_vals = [resultados[m]['Fitness Promedio'] for m in labels]\n",
        "\n",
        "plt.figure(figsize=(10,6))\n",
        "plt.bar(labels, fitness_vals)\n",
        "plt.title('Comparación del Fitness Promedio por Método de Selección')\n",
        "plt.ylabel('Fitness Promedio')\n",
        "plt.ylim(0, 70)\n",
        "plt.grid(axis='y')\n",
        "plt.show()\n",
        "\n",
        "resultados\n"
      ]
    },
    {
      "cell_type": "markdown",
      "id": "ec0464ed",
      "metadata": {
        "id": "ec0464ed"
      },
      "source": [
        "## 🧠 Análisis Automatizado del Mejor Método de Selección"
      ]
    },
    {
      "cell_type": "code",
      "execution_count": 15,
      "id": "7f2521e8",
      "metadata": {
        "colab": {
          "base_uri": "https://localhost:8080/"
        },
        "id": "7f2521e8",
        "outputId": "7997bf36-e0af-49dc-cd29-159186c42bee"
      },
      "outputs": [
        {
          "output_type": "stream",
          "name": "stdout",
          "text": [
            "✅ El método más efectivo en esta ejecución fue: Elitismo\n",
            "   - Fitness Promedio: 63.25\n",
            "   - Rutas seleccionadas: [111111, 110011, 111000, 101100]\n"
          ]
        }
      ],
      "source": [
        "\n",
        "# Identificar el mejor método según el fitness promedio\n",
        "mejor_metodo = max(resultados.items(), key=lambda x: x[1]['Fitness Promedio'])\n",
        "print(f\"✅ El método más efectivo en esta ejecución fue: {mejor_metodo[0]}\")\n",
        "print(f\"   - Fitness Promedio: {mejor_metodo[1]['Fitness Promedio']:.2f}\")\n",
        "print(f\"   - Rutas seleccionadas: {mejor_metodo[1]['Individuos']}\")\n"
      ]
    },
    {
      "cell_type": "markdown",
      "id": "57cb583f",
      "metadata": {
        "id": "57cb583f"
      },
      "source": [
        "## 🔹 Paso 4: Aplicar cruce y mutación\n",
        "- Elegir 2 pares de padres por cada método.\n",
        "- Aplicar cruce de un punto.\n",
        "- Aplicar mutación simple (tasa del 10%)."
      ]
    },
    {
      "cell_type": "markdown",
      "source": [
        "### 🔧 `cruce_un_punto(p1, p2)`\n",
        "Realiza un **cruce de un punto** entre dos cadenas binarias.\n",
        "\n",
        "- **Entrada:** dos cadenas binarias `p1` y `p2`.\n",
        "- **Proceso:** selecciona un punto de corte aleatorio y genera dos hijos mezclando segmentos de los padres.\n",
        "- **Salida:** dos nuevos cromosomas hijos."
      ],
      "metadata": {
        "id": "k12arI-ZBVHt"
      },
      "id": "k12arI-ZBVHt"
    },
    {
      "cell_type": "code",
      "source": [
        "def cruce_un_punto(p1, p2):\n",
        "    p1, p2 = str(p1), str(p2)\n",
        "    punto = random.randint(1, len(p1) - 1)\n",
        "    hijo1 = p1[:punto] + p2[punto:]\n",
        "    hijo2 = p2[:punto] + p1[punto:]\n",
        "    return hijo1, hijo2"
      ],
      "metadata": {
        "id": "kI8UExwwBWd0"
      },
      "id": "kI8UExwwBWd0",
      "execution_count": 16,
      "outputs": []
    },
    {
      "cell_type": "markdown",
      "source": [
        "### 🧬 `mutacion_simple(individuo, tasa=0.1)`\n",
        "Aplica **mutación bit a bit** con una tasa de probabilidad sobre cada gen.\n",
        "\n",
        "- **Entrada:** un cromosoma binario y una tasa de mutación (por defecto 10%).\n",
        "- **Proceso:** invierte cada bit del cromosoma con una probabilidad dada.\n",
        "- **Salida:** un nuevo cromosoma mutado."
      ],
      "metadata": {
        "id": "QH3cSvkdBYSq"
      },
      "id": "QH3cSvkdBYSq"
    },
    {
      "cell_type": "code",
      "source": [
        "def mutacion_simple(individuo, tasa=0.1):\n",
        "    individuo = str(individuo)\n",
        "    return ''.join('1' if (bit == '0' and random.random() < tasa) else\n",
        "                   '0' if (bit == '1' and random.random() < tasa) else bit for bit in individuo)"
      ],
      "metadata": {
        "id": "zmVF_XvuBdGf"
      },
      "id": "zmVF_XvuBdGf",
      "execution_count": 17,
      "outputs": []
    },
    {
      "cell_type": "markdown",
      "source": [
        "### 🔄 `cruce_y_mutacion(rutas)`\n",
        "Combina el cruce y mutación sobre dos padres seleccionados.\n",
        "\n",
        "- **Entrada:** lista de al menos dos rutas.\n",
        "- **Proceso:** aplica cruce de un punto y mutación a los dos primeros padres.\n",
        "- **Salida:** dos nuevos individuos generados."
      ],
      "metadata": {
        "id": "yvIxAzlCBe8i"
      },
      "id": "yvIxAzlCBe8i"
    },
    {
      "cell_type": "code",
      "execution_count": 18,
      "id": "1461a45c",
      "metadata": {
        "id": "1461a45c"
      },
      "outputs": [],
      "source": [
        "def cruce_y_mutacion(rutas):\n",
        "    rutas = list(map(str, rutas))\n",
        "    if len(rutas) < 2:\n",
        "        return []\n",
        "    h1, h2 = cruce_un_punto(rutas[0], rutas[1])\n",
        "    return [mutacion_simple(h1), mutacion_simple(h2)]"
      ]
    },
    {
      "cell_type": "code",
      "source": [
        "# Aplicar a todos los métodos\n",
        "nuevos_individuos = {\n",
        "    metodo: cruce_y_mutacion(datos['Individuos']) for metodo, datos in resultados.items()\n",
        "}\n",
        "\n",
        "nuevos_individuos"
      ],
      "metadata": {
        "colab": {
          "base_uri": "https://localhost:8080/"
        },
        "id": "Vo8xRwdGBlV3",
        "outputId": "02c51813-be65-4a8f-bb40-6cf2268ff893"
      },
      "id": "Vo8xRwdGBlV3",
      "execution_count": 19,
      "outputs": [
        {
          "output_type": "execute_result",
          "data": {
            "text/plain": [
              "{'Ruleta': ['101111', '11101'],\n",
              " 'Torneo': ['011111', '111011'],\n",
              " 'Elitismo': ['110011', '111111'],\n",
              " 'Ranking': ['11000', '011111'],\n",
              " 'Estocástica': ['100101.1', '101100.0']}"
            ]
          },
          "metadata": {},
          "execution_count": 19
        }
      ]
    },
    {
      "cell_type": "markdown",
      "id": "598a02ec",
      "metadata": {
        "id": "598a02ec"
      },
      "source": [
        "## 🔹 Paso 5: Analizar resultados\n",
        "Comparar los nuevos individuos generados y reflexionar sobre la diversidad o mejoras."
      ]
    },
    {
      "cell_type": "code",
      "execution_count": 20,
      "id": "b1fb92ff",
      "metadata": {
        "colab": {
          "base_uri": "https://localhost:8080/"
        },
        "id": "b1fb92ff",
        "outputId": "8aaecf3c-1fb9-459f-ecfd-513215f11b97"
      },
      "outputs": [
        {
          "output_type": "stream",
          "name": "stdout",
          "text": [
            "Ruleta: Hijos generados => ['101111', '11101']\n",
            "Torneo: Hijos generados => ['011111', '111011']\n",
            "Elitismo: Hijos generados => ['110011', '111111']\n",
            "Ranking: Hijos generados => ['11000', '011111']\n",
            "Estocástica: Hijos generados => ['100101.1', '101100.0']\n"
          ]
        }
      ],
      "source": [
        "\n",
        "for metodo, hijos in nuevos_individuos.items():\n",
        "    print(f\"{metodo}: Hijos generados => {hijos}\")\n"
      ]
    },
    {
      "cell_type": "markdown",
      "source": [
        "## ✅ Conclusión Final\n",
        "\n",
        "A través de esta actividad práctica, se ha evidenciado que los distintos mecanismos de selección utilizados en algoritmos genéticos impactan directamente en la calidad y diversidad de las soluciones generadas.\n",
        "\n",
        "- **Elitismo** y **Torneo** tienden a seleccionar los individuos con mejor rendimiento, pero con riesgo de reducir la diversidad genética si no se controlan.\n",
        "- **Ruleta**, **Ranking** y **Estocástica Universal** permiten mantener mayor diversidad, lo cual puede ser beneficioso en fases tempranas del algoritmo para evitar la convergencia prematura.\n",
        "\n",
        "Además, el uso de **cruce de un punto** y **mutación aleatoria** ha permitido generar nuevas soluciones que podrían no haberse encontrado de otro modo. La visualización y análisis de fitness promedio ha facilitado la evaluación comparativa entre métodos, ofreciendo una herramienta poderosa para la toma de decisiones en problemas reales como la optimización de rutas logísticas.\n",
        "\n",
        "En resumen, no hay un único método superior en todos los casos; la elección dependerá del problema, los objetivos y el equilibrio deseado entre exploración y explotación del espacio de soluciones."
      ],
      "metadata": {
        "id": "BLdWux0DANu8"
      },
      "id": "BLdWux0DANu8"
    }
  ],
  "metadata": {
    "colab": {
      "provenance": [],
      "include_colab_link": true
    },
    "language_info": {
      "name": "python"
    },
    "kernelspec": {
      "name": "python3",
      "display_name": "Python 3"
    }
  },
  "nbformat": 4,
  "nbformat_minor": 5
}